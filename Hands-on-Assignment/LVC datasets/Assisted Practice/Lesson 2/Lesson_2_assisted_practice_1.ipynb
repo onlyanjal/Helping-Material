{
 "cells": [
  {
   "cell_type": "code",
   "execution_count": null,
   "metadata": {},
   "outputs": [],
   "source": [
    "import numpy, pandas\n",
    "\n",
    "df = pandas.read_csv('SalaryGender.csv', delimiter=',')\n",
    "salary = numpy.array(df['Salary'])\n",
    "gender = numpy.array(df['Gender'])\n",
    "phd = numpy.array(df['PhD'])\n",
    "age = numpy.array(df['Age'])\n",
    "print(df)"
   ]
  }
 ],
 "metadata": {
  "kernelspec": {
   "display_name": "Python 3",
   "language": "python",
   "name": "python3"
  },
  "language_info": {
   "codemirror_mode": {
    "name": "ipython",
    "version": 3
   },
   "file_extension": ".py",
   "mimetype": "text/x-python",
   "name": "python",
   "nbconvert_exporter": "python",
   "pygments_lexer": "ipython3",
   "version": "3.7.0"
  }
 },
 "nbformat": 4,
 "nbformat_minor": 2
}
